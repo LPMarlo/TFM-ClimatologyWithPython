{
 "cells": [
  {
   "cell_type": "markdown",
   "metadata": {},
   "source": [
    "# NetCDF de la Temperatura de la Superficie del Mar (SST - Sea Surface temperature)\n",
    "\n",
    "El manejo de datos climáticos implica trabajar con una variedad de formatos de archivos que contienen información sobre el clima y el tiempo. Cada formato de archivo tiene sus propias características y se utiliza en diferentes contextos.\n",
    "\n",
    "NetCDF (Network Common Data Form) es un conjunto de bibliotecas de software y formatos de datos independientes de la máquina que permiten crear, acceder y compartir datos científicos orientados a matrices. También es un estándar comunitario para compartir datos científicos.\n",
    "\n",
    "Los archivos NetCDF son un formato de archivo destinado a almacenar datos científicos multidimensionales (variables) como la temperatura, la humedad, la presión, la velocidad del viento y la dirección. Su extensión se define como ‘.nc’.\n",
    "\n",
    "Para trabajar con archivos NetCDF en Python, puedes utilizar la biblioteca netCDF4, que es una de las herramientas más utilizadas para leer y escribir datos en formato NetCDF en Python. Documentación aquí.\n"
   ]
  },
  {
   "cell_type": "markdown",
   "metadata": {},
   "source": [
    "## 1. Importar bibliotecas"
   ]
  },
  {
   "cell_type": "code",
   "execution_count": 2,
   "metadata": {
    "collapsed": true
   },
   "outputs": [],
   "source": [
    "%matplotlib inline\n",
    "import numpy as np  \n",
    "from netCDF4 import Dataset"
   ]
  },
  {
   "cell_type": "markdown",
   "source": [],
   "metadata": {
    "collapsed": false
   }
  },
  {
   "cell_type": "markdown",
   "metadata": {},
   "source": [
    "## 2. Cargar datos NetCDF\n",
    "\n",
    "Puede descargar los datos utilizando wget o aria2c en Linux."
   ]
  },
  {
   "cell_type": "code",
   "execution_count": 3,
   "metadata": {
    "collapsed": true
   },
   "outputs": [],
   "source": [
    "#!wget ftp://ftp.cdc.noaa.gov/Datasets/ncep.reanalysis.derived/surface_gauss/skt.mon.mean.nc\n",
    "ncfile = '../data/skt.mon.mean.nc'"
   ]
  },
  {
   "cell_type": "markdown",
   "metadata": {},
   "source": [
    "## 3. Extraer variables\n",
    "\n",
    "Abrir archivo NetCDF e imprimir el controlador del archivo. Mostrará la información de sus variables en las últimas líneas, como se muestra a continuación:\n",
    "\n",
    "* Plataforma: Modelo\n",
    "* Convenciones: COARDS\n",
    "* Dimensiones(tamaños): lon(192), lat(94), time(687)\n",
    "* variables(dimensiones): float32 **lat(lat), float32 lon(lon), float64 time(time), float32 skt(time,lat,lon)**\n"
   ]
  },
  {
   "cell_type": "code",
   "execution_count": 4,
   "metadata": {},
   "outputs": [
    {
     "name": "stdout",
     "output_type": "stream",
     "text": [
      "<type 'netCDF4._netCDF4.Dataset'>\n",
      "root group (NETCDF3_CLASSIC data model, file format NETCDF3):\n",
      "    title: 4x daily NMC reanalysis\n",
      "    history: Tue Jul  6 00:05:45 1999: ncrcat skt.mon.mean.nc /Datasets/ncep.reanalysis.derived/surface_gauss/skt.mon.mean.nc /dm/dmwork/nmc.rean.ingest/combinedMMs/skt.mon.mean.nc\n",
      "renamevars Fri Dec 18 12:16:41 1998 from airsst.mon.mean.nc\n",
      "/home/hoop/crdc/cpreanjuke2farm/cpreanjuke2farm Mon Oct 23 21:04:20 1995 from air.sfc.gauss.85.nc\n",
      "created 95/03/13 by Hoop (netCDF2.3)\n",
      "    description: Data is from NMC initialized reanalysis\n",
      "(4x/day).  It consists of T42  variables interpolated to\n",
      "pressure surfaces from model (sigma) surfaces.\n",
      "    platform: Model\n",
      "    Conventions: COARDS\n",
      "    dimensions(sizes): lon(192), lat(94), time(687)\n",
      "    variables(dimensions): float32 \u001B[4mlat\u001B[0m(lat), float32 \u001B[4mlon\u001B[0m(lon), float64 \u001B[4mtime\u001B[0m(time), float32 \u001B[4mskt\u001B[0m(time,lat,lon)\n",
      "    groups: \n"
     ]
    }
   ],
   "source": [
    "fh = Dataset(ncfile, mode='r')\n",
    "print(fh)\n",
    "fh.close()"
   ]
  },
  {
   "cell_type": "code",
   "execution_count": 5,
   "metadata": {
    "collapsed": true
   },
   "outputs": [],
   "source": [
    "fh = Dataset(ncfile, mode='r')\n",
    "lon = fh.variables['lon'][:]\n",
    "lat = fh.variables['lat'][:]\n",
    "nctime = fh.variables['time'][:]\n",
    "t_unit = fh.variables['time'].units\n",
    "skt = fh.variables['skt'][:]\n",
    "\n",
    "try :\n",
    "    t_cal = fh.variables['time'].calendar\n",
    "except AttributeError :\n",
    "    t_cal = u\"gregorian\"\n",
    "\n",
    "fh.close()"
   ]
  },
  {
   "cell_type": "markdown",
   "metadata": {},
   "source": [
    "## 4. Acceder al primer y último valor de latitud"
   ]
  },
  {
   "cell_type": "code",
   "execution_count": 6,
   "metadata": {},
   "outputs": [
    {
     "data": {
      "text/plain": [
       "88.542"
      ]
     },
     "execution_count": 6,
     "metadata": {},
     "output_type": "execute_result"
    }
   ],
   "source": [
    "lat[0]"
   ]
  },
  {
   "cell_type": "code",
   "execution_count": 7,
   "metadata": {},
   "outputs": [
    {
     "data": {
      "text/plain": [
       "-88.542"
      ]
     },
     "execution_count": 7,
     "metadata": {},
     "output_type": "execute_result"
    }
   ],
   "source": [
    "lat[-1]"
   ]
  },
  {
   "cell_type": "markdown",
   "metadata": {},
   "source": [
    "## 5. Selección de región de interés\n",
    "\n",
    "* Lat: -50 ~ -90\n",
    "* Lon: 0 ~ 360"
   ]
  },
  {
   "cell_type": "code",
   "execution_count": 8,
   "metadata": {
    "collapsed": true
   },
   "outputs": [],
   "source": [
    "lat_so = lat[-21:-1]\n",
    "lon_so = lon\n",
    "skt_so = skt[:,-21:-1,:]"
   ]
  },
  {
   "cell_type": "markdown",
   "metadata": {},
   "source": [
    "## 6. Guardar datos de la región\n",
    "\n",
    "Guardar los datos de la subregión (varios arrays) en un solo archivo en formato .npz sin comprimir utilizando np.savez."
   ]
  },
  {
   "cell_type": "code",
   "execution_count": 9,
   "metadata": {
    "collapsed": true
   },
   "outputs": [],
   "source": [
    "np.savez('../data/skt.so.mon.mean.npz', skt_so=skt_so, lat_so=lat_so, lon_so=lon_so)"
   ]
  },
  {
   "cell_type": "code",
   "execution_count": 10,
   "metadata": {},
   "outputs": [
    {
     "data": {
      "text/plain": [
       "['skt_so', 'lat_so', 'lon_so']"
      ]
     },
     "execution_count": 10,
     "metadata": {},
     "output_type": "execute_result"
    }
   ],
   "source": [
    "npzfile = np.load('../data/skt.so.mon.mean.npz')\n",
    "npzfile.files"
   ]
  }
 ],
 "metadata": {
  "anaconda-cloud": {},
  "kernelspec": {
   "display_name": "Python [conda root]",
   "language": "python",
   "name": "conda-root-py"
  },
  "language_info": {
   "codemirror_mode": {
    "name": "ipython",
    "version": 2
   },
   "file_extension": ".py",
   "mimetype": "text/x-python",
   "name": "python",
   "nbconvert_exporter": "python",
   "pygments_lexer": "ipython2",
   "version": "2.7.12"
  }
 },
 "nbformat": 4,
 "nbformat_minor": 2
}
